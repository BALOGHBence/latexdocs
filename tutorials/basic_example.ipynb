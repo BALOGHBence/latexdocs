{
 "cells": [
  {
   "cell_type": "markdown",
   "metadata": {},
   "source": [
    "# Basic Example with ``pylatex`` and ``latexdocs``"
   ]
  },
  {
   "cell_type": "markdown",
   "metadata": {},
   "source": [
    "We build the same document first with ``pylatex``, then using ``latexdocs`` to control the assembly."
   ]
  },
  {
   "cell_type": "code",
   "execution_count": 7,
   "metadata": {},
   "outputs": [],
   "source": [
    "import numpy as np\n",
    "\n",
    "from pylatex import Document, Section, Subsection, Tabular, Math, TikZ, Axis, \\\n",
    "    Plot, Figure, Matrix, Alignat\n",
    "from pylatex.utils import italic\n",
    "import os\n",
    "\n",
    "image_filename = 'image.png'\n",
    "\n",
    "geometry_options = {\n",
    "    \"tmargin\": \"1.5cm\",\n",
    "    \"lmargin\": \"1.5cm\",\n",
    "    \"rmargin\": \"1.5cm\"\n",
    "}\n",
    "doc = Document(geometry_options=geometry_options)\n",
    "\n",
    "with doc.create(Section('Some basic content')):\n",
    "    doc.append('Some regular text and some')\n",
    "    doc.append(italic('italic text. '))\n",
    "    doc.append('\\nAlso some crazy characters: $&#{}')\n",
    "    with doc.create(Subsection('Math that is incorrect')):\n",
    "        doc.append(Math(data=['2*3', '=', 9]))\n",
    "\n",
    "    with doc.create(Subsection('Table of something')):\n",
    "        with doc.create(Tabular('rc|cl')) as table:\n",
    "            table.add_hline()\n",
    "            table.add_row((1, 2, 3, 4))\n",
    "            table.add_hline(1, 2)\n",
    "            table.add_empty_row()\n",
    "            table.add_row((4, 5, 6, 7))\n",
    "\n",
    "a = np.array([[100, 10, 20]]).T\n",
    "M = np.matrix([[2, 3, 4],\n",
    "                [0, 0, 1],\n",
    "                [0, 0, 2]])\n",
    "\n",
    "with doc.create(Section('Another section')):\n",
    "    with doc.create(Subsection('Correct matrix equations')):\n",
    "        doc.append(Math(data=[Matrix(M), Matrix(a), '=', Matrix(M * a)]))\n",
    "\n",
    "    with doc.create(Subsection('Alignat math environment')):\n",
    "        with doc.create(Alignat(numbering=False, escape=False)) as agn:\n",
    "            agn.append(r'\\frac{a}{b} &= 0 \\\\')\n",
    "            agn.extend([Matrix(M), Matrix(a), '&=', Matrix(M * a)])\n",
    "\n",
    "    with doc.create(Subsection('Beautiful graphs')):\n",
    "        with doc.create(TikZ()):\n",
    "            plot_options = 'height=4cm, width=6cm, grid=major'\n",
    "            with doc.create(Axis(options=plot_options)) as plot:\n",
    "                plot.append(Plot(name='model', func='-x^5 - 242'))\n",
    "\n",
    "                coordinates = [\n",
    "                    (-4.77778, 2027.60977),\n",
    "                    (-3.55556, 347.84069),\n",
    "                    (-2.33333, 22.58953),\n",
    "                    (-1.11111, -493.50066),\n",
    "                    (0.11111, 46.66082),\n",
    "                    (1.33333, -205.56286),\n",
    "                    (2.55556, -341.40638),\n",
    "                    (3.77778, -1169.24780),\n",
    "                    (5.00000, -3269.56775),\n",
    "                ]\n",
    "\n",
    "                plot.append(Plot(name='estimate', coordinates=coordinates))\n",
    "\n",
    "    with doc.create(Subsection('An image')):\n",
    "        with doc.create(Figure(position='h!')) as pic:\n",
    "            pic.add_image(image_filename, width='350px')\n",
    "            pic.add_caption('A simple strucutre.')\n",
    "\n",
    "doc.generate_pdf('basic_example_pylatex', clean_tex=False, compiler='pdfLaTeX')\n"
   ]
  },
  {
   "cell_type": "markdown",
   "metadata": {},
   "source": [
    "Now the same using ``latexdocs`` to have a little bit more control over when and what we do:"
   ]
  },
  {
   "cell_type": "code",
   "execution_count": 8,
   "metadata": {},
   "outputs": [],
   "source": [
    "\n",
    "from latexdocs import Document, TikZFigure, Image\n",
    "\n",
    "doc = Document(title='Document Title', author='BB', date=True)\n",
    "\n",
    "doc['Some basic content'].append('Some regular text and some')\n",
    "doc['Some basic content'].append(italic('italic text. '))\n",
    "doc['Some basic content'].append('\\nAlso some crazy characters: $&#{}')\n",
    "doc['Some basic content', 'Math that is incorrect'].append((Math(data=['2*3', '=', 9])))\n",
    "                                                        \n",
    "content = Math(data=[Matrix(M), Matrix(a), '=', Matrix(M * a)])\n",
    "doc['Another section', 'Correct matrix equations'].append(content)\n",
    "\n",
    "table = Tabular('rc|cl')\n",
    "table.add_hline()\n",
    "table.add_row((1, 2, 3, 4))\n",
    "table.add_hline(1, 2)\n",
    "table.add_empty_row()\n",
    "table.add_row((4, 5, 6, 7))\n",
    "doc['Some basic content', 'Table of something'].append(table)\n",
    "\n",
    "agn = Alignat(numbering=False, escape=False)\n",
    "agn.append(r'\\frac{a}{b} &= 0 \\\\')\n",
    "agn.extend([Matrix(M), Matrix(a), '&=', Matrix(M * a)])\n",
    "doc['Another section', 'Alignat math environment'].append(agn)\n",
    "\n",
    "fig = TikZFigure(plot_options='height=4cm, width=6cm, grid=major')\n",
    "fig.append(Plot(name='model', func='-x^5 - 242'))\n",
    "coordinates = [\n",
    "    (-4.77778, 2027.60977),\n",
    "    (-3.55556, 347.84069),\n",
    "    (-2.33333, 22.58953),\n",
    "    (-1.11111, -493.50066),\n",
    "    (0.11111, 46.66082),\n",
    "    (1.33333, -205.56286),\n",
    "    (2.55556, -341.40638),\n",
    "    (3.77778, -1169.24780),\n",
    "    (5.00000, -3269.56775),\n",
    "]\n",
    "fig.append(Plot(name='estimate', coordinates=coordinates))\n",
    "#doc['Another section']['Beautiful graphs']['figure:fig1'] = fig\n",
    "doc['Another section']['Beautiful graphs'].append(fig)\n",
    "\n",
    "img = Image(filename=image_filename, position='h!', \n",
    "            caption='A simple structure.', width='350px')\n",
    "doc['Another section']['An image'].append(img)\n",
    "#doc['Another section']['An image']['image:img1'] = img\n",
    "\n",
    "\n",
    "doc.build().generate_pdf('basic_example_latexdocs', clean_tex=False, compiler='pdfLaTeX')\n"
   ]
  }
 ],
 "metadata": {
  "kernelspec": {
   "display_name": ".venv",
   "language": "python",
   "name": ".venv"
  },
  "language_info": {
   "codemirror_mode": {
    "name": "ipython",
    "version": 3
   },
   "file_extension": ".py",
   "mimetype": "text/x-python",
   "name": "python",
   "nbconvert_exporter": "python",
   "pygments_lexer": "ipython3",
   "version": "3.8.10"
  },
  "orig_nbformat": 4,
  "vscode": {
   "interpreter": {
    "hash": "d2c55dbf966f2fba6dd8e8e3caf7c4dd930ddf2440e0e9f18679f0c773a68cc5"
   }
  }
 },
 "nbformat": 4,
 "nbformat_minor": 2
}
