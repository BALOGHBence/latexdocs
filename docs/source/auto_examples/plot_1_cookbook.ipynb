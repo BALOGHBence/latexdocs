{
  "cells": [
    {
      "cell_type": "code",
      "execution_count": null,
      "metadata": {
        "collapsed": false
      },
      "outputs": [],
      "source": [
        "%matplotlib inline"
      ]
    },
    {
      "cell_type": "markdown",
      "metadata": {},
      "source": [
        "\n# Cookbook\n"
      ]
    },
    {
      "cell_type": "code",
      "execution_count": null,
      "metadata": {
        "collapsed": false
      },
      "outputs": [],
      "source": [
        "import numpy as np\n\nfrom pylatex import Section, Subsection, Tabular, Math, TikZ, Axis, \\\n    Plot, Figure, Matrix, Alignat, NoEscape\nfrom pylatex.utils import italic\nimport os\nfrom latexdocs import Document, Image\n\ndoc = Document(title='LaTeXDocs CookBook', author='Bence Balogh', date=True)"
      ]
    },
    {
      "cell_type": "markdown",
      "metadata": {},
      "source": [
        "## Graphs\n\n"
      ]
    },
    {
      "cell_type": "code",
      "execution_count": null,
      "metadata": {
        "collapsed": false
      },
      "outputs": [],
      "source": [
        "from latexdocs import TikZFigure\n                                             \nfig = TikZFigure(plot_options='height=4cm, width=6cm, grid=major')\nfig.append(Plot(name='model', func='-x^5 - 242'))\ncoordinates = [\n    (-4.77778, 2027.60977),\n    (-3.55556, 347.84069),\n    (-2.33333, 22.58953),\n    (-1.11111, -493.50066),\n    (0.11111, 46.66082),\n    (1.33333, -205.56286),\n    (2.55556, -341.40638),\n    (3.77778, -1169.24780),\n    (5.00000, -3269.56775),\n]\nfig.append(Plot(name='estimate', coordinates=coordinates))\n#doc['Another section']['Beautiful graphs']['figure:fig1'] = fig\ndoc['Charts', 'TikZ'].append(fig)"
      ]
    },
    {
      "cell_type": "markdown",
      "metadata": {},
      "source": [
        "## ``Matplotlib`` plots\n\n"
      ]
    },
    {
      "cell_type": "code",
      "execution_count": null,
      "metadata": {
        "collapsed": false
      },
      "outputs": [],
      "source": [
        "import numpy as np\nimport matplotlib.pyplot as plt\nfrom matplotlib.patches import Circle\nfrom matplotlib.patheffects import withStroke\nfrom matplotlib.ticker import AutoMinorLocator, MultipleLocator\n\nroyal_blue = [0, 20/256, 82/256]\n\n\n# make the figure\n\nnp.random.seed(19680801)\n\nX = np.linspace(0.5, 3.5, 100)\nY1 = 3+np.cos(X)\nY2 = 1+np.cos(1+X/0.75)/2\nY3 = np.random.uniform(Y1, Y2, len(X))\n\nfig = plt.figure(figsize=(7.5, 7.5))\nax = fig.add_axes([0.2, 0.17, 0.68, 0.7], aspect=1)\n\nax.xaxis.set_major_locator(MultipleLocator(1.000))\nax.xaxis.set_minor_locator(AutoMinorLocator(4))\nax.yaxis.set_major_locator(MultipleLocator(1.000))\nax.yaxis.set_minor_locator(AutoMinorLocator(4))\nax.xaxis.set_minor_formatter(\"{x:.2f}\")\n\nax.set_xlim(0, 4)\nax.set_ylim(0, 4)\n\nax.tick_params(which='major', width=1.0, length=10, labelsize=14)\nax.tick_params(which='minor', width=1.0, length=5, labelsize=10,\n               labelcolor='0.25')\n\nax.grid(linestyle=\"--\", linewidth=0.5, color='.25', zorder=-10)\n\nax.plot(X, Y1, c='C0', lw=2.5, label=\"Blue signal\", zorder=10)\nax.plot(X, Y2, c='C1', lw=2.5, label=\"Orange signal\")\nax.plot(X[::3], Y3[::3], linewidth=0, markersize=9,\n        marker='s', markerfacecolor='none', markeredgecolor='C4',\n        markeredgewidth=2.5)\n\nax.set_title(\"Anatomy of a figure\", fontsize=20, verticalalignment='bottom')\nax.set_xlabel(\"x Axis label\", fontsize=14)\nax.set_ylabel(\"y Axis label\", fontsize=14)\nax.legend(loc=\"upper right\", fontsize=14)\n\n\n# Annotate the figure\n\ndef annotate(x, y, text, code):\n    # Circle marker\n    c = Circle((x, y), radius=0.15, clip_on=False, zorder=10, linewidth=2.5,\n               edgecolor=royal_blue + [0.6], facecolor='none',\n               path_effects=[withStroke(linewidth=7, foreground='white')])\n    ax.add_artist(c)\n\n    # use path_effects as a background for the texts\n    # draw the path_effects and the colored text separately so that the\n    # path_effects cannot clip other texts\n    for path_effects in [[withStroke(linewidth=7, foreground='white')], []]:\n        color = 'white' if path_effects else royal_blue\n        ax.text(x, y-0.2, text, zorder=100,\n                ha='center', va='top', weight='bold', color=color,\n                style='italic', fontfamily='Courier New',\n                path_effects=path_effects)\n\n        color = 'white' if path_effects else 'black'\n        ax.text(x, y-0.33, code, zorder=100,\n                ha='center', va='top', weight='normal', color=color,\n                fontfamily='monospace', fontsize='medium',\n                path_effects=path_effects)\n\n\nannotate(3.5, -0.13, \"Minor tick label\", \"ax.xaxis.set_minor_formatter\")\nannotate(-0.03, 1.0, \"Major tick\", \"ax.yaxis.set_major_locator\")\nannotate(0.00, 3.75, \"Minor tick\", \"ax.yaxis.set_minor_locator\")\nannotate(-0.15, 3.00, \"Major tick label\", \"ax.yaxis.set_major_formatter\")\nannotate(1.68, -0.39, \"xlabel\", \"ax.set_xlabel\")\nannotate(-0.38, 1.67, \"ylabel\", \"ax.set_ylabel\")\nannotate(1.52, 4.15, \"Title\", \"ax.set_title\")\nannotate(1.75, 2.80, \"Line\", \"ax.plot\")\nannotate(2.25, 1.54, \"Markers\", \"ax.scatter\")\nannotate(3.00, 3.00, \"Grid\", \"ax.grid\")\nannotate(3.60, 3.58, \"Legend\", \"ax.legend\")\nannotate(2.5, 0.55, \"Axes\", \"fig.subplots\")\nannotate(4, 4.5, \"Figure\", \"plt.figure\")\nannotate(0.65, 0.01, \"x Axis\", \"ax.xaxis\")\nannotate(0, 0.36, \"y Axis\", \"ax.yaxis\")\nannotate(4.0, 0.7, \"Spine\", \"ax.spines\")\n\n# frame around figure\nfig.patch.set(linewidth=4, edgecolor='0.5')\n\nplt.savefig(\"mpl_anatomy.pdf\")\n\ncontent = r\"\"\"\n\\begin{figure}[htp] \\centering{\n\\includegraphics[scale=1.0]{mpl_anatomy.pdf}}\n\\caption{The anatomy of a matplotlib figure.}\n\\end{figure}  \n\"\"\"\ndoc['Matplotlib'].append(NoEscape(content))"
      ]
    },
    {
      "cell_type": "code",
      "execution_count": null,
      "metadata": {
        "collapsed": false
      },
      "outputs": [],
      "source": [
        "import matplotlib.pyplot as plt\nfrom matplotlib.path import Path\nimport matplotlib.patches as patches\nimport numpy as np\n\nfig, host = plt.subplots()\n\n# create some dummy data\nynames = ['P1', 'P2', 'P3', 'P4', 'P5']\nN1, N2, N3 = 10, 5, 8\nN = N1 + N2 + N3\ncategory = np.concatenate([np.full(N1, 1), np.full(N2, 2), np.full(N3, 3)])\ny1 = np.random.uniform(0, 10, N) + 7 * category\ny2 = np.sin(np.random.uniform(0, np.pi, N)) ** category\ny3 = np.random.binomial(300, 1 - category / 10, N)\ny4 = np.random.binomial(200, (category / 6) ** 1/3, N)\ny5 = np.random.uniform(0, 800, N)\n\n# organize the data\nys = np.dstack([y1, y2, y3, y4, y5])[0]\nymins = ys.min(axis=0)\nymaxs = ys.max(axis=0)\ndys = ymaxs - ymins\nymins -= dys * 0.05  # add 5% padding below and above\nymaxs += dys * 0.05\ndys = ymaxs - ymins\n\n# transform all data to be compatible with the main axis\nzs = np.zeros_like(ys)\nzs[:, 0] = ys[:, 0]\nzs[:, 1:] = (ys[:, 1:] - ymins[1:]) / dys[1:] * dys[0] + ymins[0]\n\n\naxes = [host] + [host.twinx() for i in range(ys.shape[1] - 1)]\nfor i, ax in enumerate(axes):\n    ax.set_ylim(ymins[i], ymaxs[i])\n    ax.spines['top'].set_visible(False)\n    ax.spines['bottom'].set_visible(False)\n    if ax != host:\n        ax.spines['left'].set_visible(False)\n        ax.yaxis.set_ticks_position('right')\n        ax.spines[\"right\"].set_position((\"axes\", i / (ys.shape[1] - 1)))\n\nhost.set_xlim(0, ys.shape[1] - 1)\nhost.set_xticks(range(ys.shape[1]))\nhost.set_xticklabels(ynames, fontsize=14)\nhost.tick_params(axis='x', which='major', pad=7)\nhost.spines['right'].set_visible(False)\nhost.xaxis.tick_top()\nhost.set_title('Parallel Coordinates Plot', fontsize=18)\n\ncolors = plt.cm.tab10.colors\nfor j in range(N):\n    # to just draw straight lines between the axes:\n    # host.plot(range(ys.shape[1]), zs[j,:], c=colors[(category[j] - 1) % len(colors) ])\n\n    # create bezier curves\n    # for each axis, there will a control vertex at the point itself, one at 1/3rd towards the previous and one\n    #   at one third towards the next axis; the first and last axis have one less control vertex\n    # x-coordinate of the control vertices: at each integer (for the axes) and two inbetween\n    # y-coordinate: repeat every point three times, except the first and last only twice\n    verts = list(zip([x for x in np.linspace(0, len(ys) - 1, len(ys) * 3 - 2, endpoint=True)],\n                     np.repeat(zs[j, :], 3)[1:-1]))\n    # for x,y in verts: host.plot(x, y, 'go') # to show the control points of the beziers\n    codes = [Path.MOVETO] + [Path.CURVE4 for _ in range(len(verts) - 1)]\n    path = Path(verts, codes)\n    patch = patches.PathPatch(path, facecolor='none', lw=1, edgecolor=colors[category[j] - 1])\n    host.add_patch(patch)\nplt.tight_layout()\nplt.show()"
      ]
    },
    {
      "cell_type": "markdown",
      "metadata": {},
      "source": [
        "## Tables\n\n"
      ]
    },
    {
      "cell_type": "code",
      "execution_count": null,
      "metadata": {
        "collapsed": false
      },
      "outputs": [],
      "source": [
        "from latexdocs import Table, TableX\n\nlabels = ['A', 'B', 'C', 'D']\ndata = np.array([[1, 2, 3, 4], [5, 6, 7, 8]])\n\ndoc['Tables'].append(Table(data=data, labels=labels))\ndoc['Tables'].append(TableX(data=data, labels=labels, table_spec=r\"X|X|X|X\"))"
      ]
    },
    {
      "cell_type": "code",
      "execution_count": null,
      "metadata": {
        "collapsed": false
      },
      "outputs": [],
      "source": [
        "from latexdocs import Image\nimport qrcode\n\nqr = qrcode.QRCode(\n    version=1,\n    error_correction=qrcode.constants.ERROR_CORRECT_L,\n    box_size=10,\n    border=4,\n)\nqr.add_data(\"https://github.com/dewloosh/latexdocs\")\nqr.make(fit=True)\n\nimg = qr.make_image(fill_color=\"black\", back_color=\"white\")\nimg.save(\"qrcode.png\")\n\nimg = Image(filename=\"qrcode.png\", position='h!',\n            caption=None, width='350px')\n#doc['image:img1'] = img\n# doc.append(img)\n# doc['image:img1'].append(NewPage())"
      ]
    },
    {
      "cell_type": "code",
      "execution_count": null,
      "metadata": {
        "collapsed": false
      },
      "outputs": [],
      "source": [
        "doc.build().generate_pdf('cookbook', clean_tex=False, compiler='pdfLaTeX')"
      ]
    },
    {
      "cell_type": "markdown",
      "metadata": {},
      "source": [
        "## Custom Images\n\n"
      ]
    },
    {
      "cell_type": "markdown",
      "metadata": {},
      "source": [
        "plt.savefig(\"axisvm_UZ.pdf\")\n\n"
      ]
    },
    {
      "cell_type": "code",
      "execution_count": null,
      "metadata": {
        "collapsed": false
      },
      "outputs": [],
      "source": [
        "content = r\"\"\"\n\\begin{figure}[H] \\centering{\n\\includegraphics[scale=1.0]{axisvm_UZ.pdf}}\n\\caption{Degree of Freedom Solution}\n\\end{figure}  \n\"\"\"\n#doc['Results', 'ULS', 'Cases'].append(NoEscape(content))"
      ]
    }
  ],
  "metadata": {
    "kernelspec": {
      "display_name": "Python 3",
      "language": "python",
      "name": "python3"
    },
    "language_info": {
      "codemirror_mode": {
        "name": "ipython",
        "version": 3
      },
      "file_extension": ".py",
      "mimetype": "text/x-python",
      "name": "python",
      "nbconvert_exporter": "python",
      "pygments_lexer": "ipython3",
      "version": "3.8.10"
    }
  },
  "nbformat": 4,
  "nbformat_minor": 0
}